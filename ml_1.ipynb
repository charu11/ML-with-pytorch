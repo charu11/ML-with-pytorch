{
  "nbformat": 4,
  "nbformat_minor": 0,
  "metadata": {
    "colab": {
      "name": "ml_1.ipynb",
      "provenance": [],
      "authorship_tag": "ABX9TyMv0in8kz1nA2MY1fCEjUKV",
      "include_colab_link": true
    },
    "kernelspec": {
      "name": "python3",
      "display_name": "Python 3"
    },
    "accelerator": "GPU"
  },
  "cells": [
    {
      "cell_type": "markdown",
      "metadata": {
        "id": "view-in-github",
        "colab_type": "text"
      },
      "source": [
        "<a href=\"https://colab.research.google.com/github/charu11/ML-with-pytorch/blob/ml/ml_1.ipynb\" target=\"_parent\"><img src=\"https://colab.research.google.com/assets/colab-badge.svg\" alt=\"Open In Colab\"/></a>"
      ]
    },
    {
      "cell_type": "code",
      "metadata": {
        "id": "j89B7ARlNk3t",
        "colab_type": "code",
        "colab": {}
      },
      "source": [
        "import torch "
      ],
      "execution_count": 0,
      "outputs": []
    },
    {
      "cell_type": "code",
      "metadata": {
        "id": "dME05JZVOP6r",
        "colab_type": "code",
        "outputId": "de30dd0c-d0b6-42cc-f4da-d6d2917be58f",
        "colab": {
          "base_uri": "https://localhost:8080/",
          "height": 34
        }
      },
      "source": [
        "x = torch.tensor([5, 4])\n",
        "y = torch.tensor([2, 5])\n",
        "\n",
        "print(x*y)"
      ],
      "execution_count": 0,
      "outputs": [
        {
          "output_type": "stream",
          "text": [
            "tensor([10, 20])\n"
          ],
          "name": "stdout"
        }
      ]
    },
    {
      "cell_type": "code",
      "metadata": {
        "id": "JFuh3A-EP1Za",
        "colab_type": "code",
        "outputId": "523cc813-b7e2-4dc7-e10a-49eb32b9535d",
        "colab": {
          "base_uri": "https://localhost:8080/",
          "height": 84
        }
      },
      "source": [
        "x = torch.zeros([4, 6])\n",
        "print(x)"
      ],
      "execution_count": 0,
      "outputs": [
        {
          "output_type": "stream",
          "text": [
            "tensor([[0., 0., 0., 0., 0., 0.],\n",
            "        [0., 0., 0., 0., 0., 0.],\n",
            "        [0., 0., 0., 0., 0., 0.],\n",
            "        [0., 0., 0., 0., 0., 0.]])\n"
          ],
          "name": "stdout"
        }
      ]
    },
    {
      "cell_type": "code",
      "metadata": {
        "id": "gT5TbHmjQJQ_",
        "colab_type": "code",
        "colab": {}
      },
      "source": [
        "# generate arrays with random value\n",
        "\n",
        "x = torch.rand([4,6])\n",
        "print(x) \n",
        "x.view([3,8])"
      ],
      "execution_count": 0,
      "outputs": []
    },
    {
      "cell_type": "code",
      "metadata": {
        "id": "lrixqLKNQbvt",
        "colab_type": "code",
        "colab": {}
      },
      "source": [
        "import torch\n",
        "import torchvision\n",
        "from torchvision import transforms, datasets\n",
        "\n",
        "train = datasets.MNIST('', train=True, download=True, \n",
        "                       transform=transforms.Compose([\n",
        "                           transforms.ToTensor()                         \n",
        "                       ]))\n",
        "\n",
        "test = datasets.MNIST('', train=False, download=True, \n",
        "                       transform=transforms.Compose([\n",
        "                           transforms.ToTensor()                         \n",
        "                       ]))\n",
        "\n",
        "train_set = torch.utils.data.DataLoader(train, batch_size=10, shuffle=True)\n",
        "test_set = torch.utils.data.DataLoader(test, batch_size=10, shuffle=False)\n",
        "\n",
        "for data in train_set:\n",
        "  print(data)\n",
        "\n"
      ],
      "execution_count": 0,
      "outputs": []
    },
    {
      "cell_type": "code",
      "metadata": {
        "id": "O4ESbUTearxH",
        "colab_type": "code",
        "colab": {
          "base_uri": "https://localhost:8080/",
          "height": 34
        },
        "outputId": "fc5a27ea-bb1d-445a-cdad-106800a5105f"
      },
      "source": [
        "X, y = data[0][0], data[1][0]\n",
        "print(data[1])"
      ],
      "execution_count": 28,
      "outputs": [
        {
          "output_type": "stream",
          "text": [
            "tensor([7, 8, 9, 0, 1, 2, 3, 4, 5, 6])\n"
          ],
          "name": "stdout"
        }
      ]
    },
    {
      "cell_type": "code",
      "metadata": {
        "id": "An1jg76abs2K",
        "colab_type": "code",
        "colab": {
          "base_uri": "https://localhost:8080/",
          "height": 265
        },
        "outputId": "2a98de68-8cf5-4cf9-aca0-fbd89712b7c1"
      },
      "source": [
        "import matplotlib.pyplot as plt\n",
        "plt.imshow(data[0][1].view(28,28))\n",
        "plt.show()"
      ],
      "execution_count": 27,
      "outputs": [
        {
          "output_type": "display_data",
          "data": {
            "image/png": "[encoded data removed]",
            "text/plain": [
              "<Figure size 432x288 with 1 Axes>"
            ]
          },
          "metadata": {
            "tags": [],
            "needs_background": "light"
          }
        }
      ]
    },
    {
      "cell_type": "code",
      "metadata": {
        "id": "z7_9zjw-LKGO",
        "colab_type": "code",
        "colab": {}
      },
      "source": [
        "total = 0\n",
        "counter_dict = {0:0, 1:0, 2:0, 3:0, 4:0, 5:0, 6:0, 7:0, 8:0, 9:0}\n",
        "\n",
        "for data in train_set:\n",
        "  Xs, ys = data\n",
        "  for y in ys:\n",
        "    counter_dict[int(y)] += 1\n",
        "    total += 1\n",
        "\n",
        "print(counter_dict)\n",
        "\n",
        "for i in counter_dict:\n",
        "  print(f\"{i}: {counter_dict[i]/total*100.0}%\")\n"
      ],
      "execution_count": 0,
      "outputs": []
    },
    {
      "cell_type": "code",
      "metadata": {
        "id": "Hf23HH3wPtCx",
        "colab_type": "code",
        "colab": {
          "base_uri": "https://localhost:8080/",
          "height": 118
        },
        "outputId": "e63b424c-c06c-45ba-fcd4-c53a5fb1b695"
      },
      "source": [
        "# create the neural network\n",
        "\n",
        "import torch.nn as nn  # giving the access to neural network layers types\n",
        "import torch.nn.functional as F\n",
        "\n",
        "class Net(nn.Module):\n",
        "    def __init__(self):\n",
        "        super().__init__()\n",
        "        self.fc1 = nn.Linear(28*28, 64)\n",
        "        self.fc2 = nn.Linear(64, 64)\n",
        "        self.fc3 = nn.Linear(64, 64)\n",
        "        self.fc4 = nn.Linear(64, 10)\n",
        "\n",
        "    def forward(self, x):\n",
        "        x = F.relu(self.fc1(x))\n",
        "        x = F.relu(self.fc2(x))\n",
        "        x = F.relu(self.fc3(x))\n",
        "        x = self.fc4(x)\n",
        "        return F.log_softmax(x, dim=1)\n",
        "\n",
        "net = Net()\n",
        "print(net)\n",
        "\n",
        "\n"
      ],
      "execution_count": 7,
      "outputs": [
        {
          "output_type": "stream",
          "text": [
            "Net(\n",
            "  (fc1): Linear(in_features=784, out_features=64, bias=True)\n",
            "  (fc2): Linear(in_features=64, out_features=64, bias=True)\n",
            "  (fc3): Linear(in_features=64, out_features=64, bias=True)\n",
            "  (fc4): Linear(in_features=64, out_features=10, bias=True)\n",
            ")\n"
          ],
          "name": "stdout"
        }
      ]
    },
    {
      "cell_type": "code",
      "metadata": {
        "id": "LncJ0MyGV8Wq",
        "colab_type": "code",
        "colab": {}
      },
      "source": [
        "X = torch.randn((28,28))\n",
        "X = X.view(-1,28*28)\n",
        "output = net(X)\n",
        "\n"
      ],
      "execution_count": 0,
      "outputs": []
    },
    {
      "cell_type": "code",
      "metadata": {
        "id": "EZKXOu5jV8Hz",
        "colab_type": "code",
        "colab": {
          "base_uri": "https://localhost:8080/",
          "height": 50
        },
        "outputId": "8f5bafd1-03bb-4d51-d951-7e6b63f1d25c"
      },
      "source": [
        "output\n"
      ],
      "execution_count": 40,
      "outputs": [
        {
          "output_type": "execute_result",
          "data": {
            "text/plain": [
              "tensor([[-2.2313, -2.4345, -2.3145, -2.3477, -2.2826, -2.3129, -2.3438, -2.2513,\n",
              "         -2.3207, -2.2059]], grad_fn=<LogSoftmaxBackward>)"
            ]
          },
          "metadata": {
            "tags": []
          },
          "execution_count": 40
        }
      ]
    },
    {
      "cell_type": "code",
      "metadata": {
        "id": "56GQgB_19OkZ",
        "colab_type": "code",
        "colab": {
          "base_uri": "https://localhost:8080/",
          "height": 151
        },
        "outputId": "7e05ed1e-b79a-4849-9614-292c0b3e7694"
      },
      "source": [
        "import torch.optim as optim\n",
        "import torch.nn as nn \n",
        "\n",
        "loss_function = nn.CrossEntropyLoss()\n",
        "optimizer = optim.Adam(net.parameters(), lr=0.001) # lr= learning rate\n",
        "\n",
        "for epochs in range(8): # 8 full passes over the data\n",
        "  for data in train_set: # 'data is a batch data'\n",
        "    X,y = data    # X is batch of features, y is the batch of targets\n",
        "    net.zero_grad()  # sets gradient 0 before loss calc.\n",
        "    output = net(X.view(-1,784))  # passed in the reshaped batch(recall they are 28*28 at the moment)\n",
        "    loss = F.nll_loss(output, y) # calc and grab the loss value\n",
        "    loss.backward()  # apply this loss backward thru the networks parameters\n",
        "    optimizer.step() # attempt to optimize weights to account for loss/gradient\n",
        "  print(loss) # print the loss\n"
      ],
      "execution_count": 11,
      "outputs": [
        {
          "output_type": "stream",
          "text": [
            "tensor(0.2029, grad_fn=<NllLossBackward>)\n",
            "tensor(0.0033, grad_fn=<NllLossBackward>)\n",
            "tensor(0.0087, grad_fn=<NllLossBackward>)\n",
            "tensor(0.0036, grad_fn=<NllLossBackward>)\n",
            "tensor(0.8812, grad_fn=<NllLossBackward>)\n",
            "tensor(0.0652, grad_fn=<NllLossBackward>)\n",
            "tensor(0.0406, grad_fn=<NllLossBackward>)\n",
            "tensor(0.0008, grad_fn=<NllLossBackward>)\n"
          ],
          "name": "stdout"
        }
      ]
    },
    {
      "cell_type": "code",
      "metadata": {
        "id": "h_GUMoE-GfKk",
        "colab_type": "code",
        "colab": {
          "base_uri": "https://localhost:8080/",
          "height": 34
        },
        "outputId": "d348fc99-660d-41eb-f5c2-04b79f8d3fd5"
      },
      "source": [
        "correct = 0\n",
        "total = 0\n",
        "\n",
        "with torch.no_grad():\n",
        "  for data in test_set:\n",
        "    X, y = data\n",
        "    output = net(X.view(-1, 784))\n",
        "    for idx, i in enumerate(output):\n",
        "      if torch.argmax(i) == y[idx]:\n",
        "        correct += 1\n",
        "      total += 1\n",
        "\n",
        "print('Accuracy:', round(correct/total, 3))\n"
      ],
      "execution_count": 12,
      "outputs": [
        {
          "output_type": "stream",
          "text": [
            "Accuracy: 0.975\n"
          ],
          "name": "stdout"
        }
      ]
    },
    {
      "cell_type": "code",
      "metadata": {
        "id": "svMUjgH9IH92",
        "colab_type": "code",
        "colab": {
          "base_uri": "https://localhost:8080/",
          "height": 265
        },
        "outputId": "1b0d5a1d-83d1-4a85-aa95-ec52f61a8402"
      },
      "source": [
        "import matplotlib.pyplot as plt\n",
        "plt.imshow(X[0].view(28,28))\n",
        "plt.show()"
      ],
      "execution_count": 17,
      "outputs": [
        {
          "output_type": "display_data",
          "data": {
            "image/png": "[encoded data removed]",
            "text/plain": [
              "<Figure size 432x288 with 1 Axes>"
            ]
          },
          "metadata": {
            "tags": [],
            "needs_background": "light"
          }
        }
      ]
    },
    {
      "cell_type": "code",
      "metadata": {
        "id": "L2BsxT9KIfRp",
        "colab_type": "code",
        "colab": {
          "base_uri": "https://localhost:8080/",
          "height": 34
        },
        "outputId": "a1f033eb-788b-498b-9b50-264e488dcaf9"
      },
      "source": [
        "print(torch.argmax(net(X[0].view(-1,784))))"
      ],
      "execution_count": 19,
      "outputs": [
        {
          "output_type": "stream",
          "text": [
            "tensor(7)\n"
          ],
          "name": "stdout"
        }
      ]
    }
  ]
}